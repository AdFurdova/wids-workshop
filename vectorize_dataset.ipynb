{
 "cells": [
  {
   "cell_type": "code",
   "execution_count": null,
   "metadata": {},
   "outputs": [],
   "source": [
    "import pandas as pd\n",
    "import numpy as np\n",
    "\n",
    "import torch\n",
    "import os\n",
    "\n",
    "from PIL import Image\n",
    "from torchvision import models, transforms\n",
    "\n",
    "from src import helpers"
   ]
  },
  {
   "cell_type": "code",
   "execution_count": null,
   "metadata": {},
   "outputs": [],
   "source": [
    "model = # download the pretrained model, e.g. resnet50\n",
    "model.eval()"
   ]
  },
  {
   "cell_type": "code",
   "execution_count": null,
   "metadata": {},
   "outputs": [],
   "source": [
    "data_dir = 'data/dogs_dataset'\n",
    "\n",
    "vectors = []\n",
    "# transform pictures in our dog breeds dataset using model into their vectorized form\n",
    "# create a dataframe with two columns: {\"vector\": vectorized dataset picture, \"img_path\":  picture filepath}\n",
    "# save vectorized dataset into parquet format"
   ]
  }
 ],
 "metadata": {
  "kernelspec": {
   "display_name": "streamlit-env",
   "language": "python",
   "name": "python3"
  },
  "language_info": {
   "codemirror_mode": {
    "name": "ipython",
    "version": 3
   },
   "file_extension": ".py",
   "mimetype": "text/x-python",
   "name": "python",
   "nbconvert_exporter": "python",
   "pygments_lexer": "ipython3",
   "version": "3.9.15"
  },
  "orig_nbformat": 4,
  "vscode": {
   "interpreter": {
    "hash": "a00bf2f4ae519fa774afe132cf63de2c1e3bc15ee70f41375f14ccc5832ccfa3"
   }
  }
 },
 "nbformat": 4,
 "nbformat_minor": 2
}
